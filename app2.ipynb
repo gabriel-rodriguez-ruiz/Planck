{
 "cells": [
  {
   "cell_type": "code",
   "execution_count": null,
   "id": "ccc435bf-ce7f-4cb9-9fc8-b9472719ddfb",
   "metadata": {},
   "outputs": [],
   "source": []
  }
 ],
 "metadata": {
  "kernelspec": {
   "display_name": "",
   "name": ""
  },
  "language_info": {
   "name": ""
  }
 },
 "nbformat": 4,
 "nbformat_minor": 5
}
